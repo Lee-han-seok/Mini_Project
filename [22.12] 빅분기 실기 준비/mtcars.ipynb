{
 "cells": [
  {
   "cell_type": "code",
   "execution_count": 137,
   "metadata": {},
   "outputs": [],
   "source": [
    "import sklearn\n",
    "import pandas as pd\n",
    "import numpy as np\n",
    "import warnings\n",
    "\n",
    "warnings.filterwarnings('ignore')"
   ]
  },
  {
   "cell_type": "code",
   "execution_count": 138,
   "metadata": {},
   "outputs": [],
   "source": [
    "X_test = pd.read_csv('mpg_X_test.csv')\n",
    "X_train = pd.read_csv('mpg_X_train.csv')\n",
    "y_train = pd.read_csv('mpg_y_train.csv')\n",
    "X_test = X_test.drop(['Unnamed: 0'], axis = 1)\n",
    "X_train = X_train.drop(['Unnamed: 0'], axis = 1)\n",
    "y_train = y_train.drop(['Unnamed: 0'], axis = 1)"
   ]
  },
  {
   "cell_type": "code",
   "execution_count": 139,
   "metadata": {},
   "outputs": [
    {
     "name": "stdout",
     "output_type": "stream",
     "text": [
      "                         name   mpg  cylinders  displacement  horsepower  \\\n",
      "0  pontiac j2000 se hatchback  31.0          4         112.0        85.0   \n",
      "1         pontiac safari (sw)  13.0          8         400.0       175.0   \n",
      "2          mazda glc custom l  37.0          4          91.0        68.0   \n",
      "3    oldsmobile vista cruiser  12.0          8         350.0       180.0   \n",
      "4                 peugeot 504  19.0          4         120.0        88.0   \n",
      "\n",
      "   weight  acceleration  model_year  \n",
      "0    2575          16.2          82  \n",
      "1    5140          12.0          71  \n",
      "2    2025          18.2          82  \n",
      "3    4499          12.5          73  \n",
      "4    3270          21.9          76  \n"
     ]
    }
   ],
   "source": [
    "print(X_train.head())"
   ]
  },
  {
   "cell_type": "code",
   "execution_count": 140,
   "metadata": {},
   "outputs": [
    {
     "name": "stdout",
     "output_type": "stream",
     "text": [
      "   isUSA\n",
      "0      1\n",
      "1      1\n",
      "2      0\n",
      "3      1\n",
      "4      0\n"
     ]
    }
   ],
   "source": [
    "print(y_train.head())"
   ]
  },
  {
   "cell_type": "code",
   "execution_count": 141,
   "metadata": {},
   "outputs": [
    {
     "name": "stdout",
     "output_type": "stream",
     "text": [
      "<class 'pandas.core.frame.DataFrame'>\n",
      "RangeIndex: 278 entries, 0 to 277\n",
      "Data columns (total 8 columns):\n",
      " #   Column        Non-Null Count  Dtype  \n",
      "---  ------        --------------  -----  \n",
      " 0   name          278 non-null    object \n",
      " 1   mpg           278 non-null    float64\n",
      " 2   cylinders     278 non-null    int64  \n",
      " 3   displacement  278 non-null    float64\n",
      " 4   horsepower    274 non-null    float64\n",
      " 5   weight        278 non-null    int64  \n",
      " 6   acceleration  278 non-null    float64\n",
      " 7   model_year    278 non-null    int64  \n",
      "dtypes: float64(4), int64(3), object(1)\n",
      "memory usage: 17.5+ KB\n",
      "None\n"
     ]
    }
   ],
   "source": [
    "print(X_train.info())"
   ]
  },
  {
   "cell_type": "code",
   "execution_count": 142,
   "metadata": {},
   "outputs": [],
   "source": [
    "# handling NA"
   ]
  },
  {
   "cell_type": "code",
   "execution_count": 143,
   "metadata": {},
   "outputs": [],
   "source": [
    "X_train['horsepower'] = X_train['horsepower'].fillna(X_train['horsepower'].mean())\n",
    "X_test['horsepower'] = X_test['horsepower'].fillna(X_test['horsepower'].mean())"
   ]
  },
  {
   "cell_type": "code",
   "execution_count": 144,
   "metadata": {},
   "outputs": [
    {
     "name": "stdout",
     "output_type": "stream",
     "text": [
      "<class 'pandas.core.frame.DataFrame'>\n",
      "RangeIndex: 278 entries, 0 to 277\n",
      "Data columns (total 8 columns):\n",
      " #   Column        Non-Null Count  Dtype  \n",
      "---  ------        --------------  -----  \n",
      " 0   name          278 non-null    object \n",
      " 1   mpg           278 non-null    float64\n",
      " 2   cylinders     278 non-null    int64  \n",
      " 3   displacement  278 non-null    float64\n",
      " 4   horsepower    278 non-null    float64\n",
      " 5   weight        278 non-null    int64  \n",
      " 6   acceleration  278 non-null    float64\n",
      " 7   model_year    278 non-null    int64  \n",
      "dtypes: float64(4), int64(3), object(1)\n",
      "memory usage: 17.5+ KB\n",
      "None\n"
     ]
    }
   ],
   "source": [
    "print(X_train.info())"
   ]
  },
  {
   "cell_type": "code",
   "execution_count": 145,
   "metadata": {},
   "outputs": [
    {
     "name": "stdout",
     "output_type": "stream",
     "text": [
      "              mpg   cylinders  displacement  horsepower       weight  \\\n",
      "count  278.000000  278.000000    278.000000  278.000000   278.000000   \n",
      "mean    23.732734    5.374101    189.994604  103.383212  2948.464029   \n",
      "std      7.647295    1.677084    105.471423   38.695458   862.949746   \n",
      "min     10.000000    3.000000     68.000000   46.000000  1613.000000   \n",
      "25%     18.000000    4.000000     98.000000   75.000000  2206.250000   \n",
      "50%     23.000000    4.000000    140.500000   90.500000  2737.500000   \n",
      "75%     29.000000    6.000000    258.000000  118.750000  3560.000000   \n",
      "max     46.600000    8.000000    455.000000  230.000000  5140.000000   \n",
      "\n",
      "       acceleration  model_year  \n",
      "count    278.000000  278.000000  \n",
      "mean      15.580216   76.057554  \n",
      "std        2.745907    3.605591  \n",
      "min        8.000000   70.000000  \n",
      "25%       14.000000   73.000000  \n",
      "50%       15.500000   76.000000  \n",
      "75%       17.000000   79.000000  \n",
      "max       24.800000   82.000000  \n"
     ]
    }
   ],
   "source": [
    "print(X_train.describe())"
   ]
  },
  {
   "cell_type": "code",
   "execution_count": 146,
   "metadata": {},
   "outputs": [
    {
     "name": "stdout",
     "output_type": "stream",
     "text": [
      "221\n"
     ]
    }
   ],
   "source": [
    "print(X_train['name'].nunique())"
   ]
  },
  {
   "cell_type": "code",
   "execution_count": 147,
   "metadata": {},
   "outputs": [],
   "source": [
    "X_train = X_train.drop(['name'], axis = 1)\n",
    "X_test = X_test.drop(['name'], axis = 1)"
   ]
  },
  {
   "cell_type": "code",
   "execution_count": 148,
   "metadata": {},
   "outputs": [
    {
     "data": {
      "text/plain": [
       "4    150\n",
       "8     67\n",
       "6     57\n",
       "5      2\n",
       "3      2\n",
       "Name: cylinders, dtype: int64"
      ]
     },
     "execution_count": 148,
     "metadata": {},
     "output_type": "execute_result"
    }
   ],
   "source": [
    "X_train['cylinders'].value_counts() # Label Encoder"
   ]
  },
  {
   "cell_type": "code",
   "execution_count": 149,
   "metadata": {},
   "outputs": [
    {
     "data": {
      "text/plain": [
       "13"
      ]
     },
     "execution_count": 149,
     "metadata": {},
     "output_type": "execute_result"
    }
   ],
   "source": [
    "X_train['model_year'].nunique()"
   ]
  },
  {
   "cell_type": "code",
   "execution_count": 150,
   "metadata": {},
   "outputs": [],
   "source": [
    "COL_CAT = ['cylinders', 'model_year']\n",
    "COL_NUM = ['mpg', 'displacement', 'horsepower', 'weight', 'acceleration']"
   ]
  },
  {
   "cell_type": "code",
   "execution_count": 151,
   "metadata": {},
   "outputs": [],
   "source": [
    "from sklearn.model_selection import train_test_split"
   ]
  },
  {
   "cell_type": "code",
   "execution_count": 152,
   "metadata": {},
   "outputs": [],
   "source": [
    "X_tr, X_val, y_tr, y_val = train_test_split(X_train, y_train, test_size = 0.3)"
   ]
  },
  {
   "cell_type": "code",
   "execution_count": 153,
   "metadata": {},
   "outputs": [],
   "source": [
    "from sklearn.preprocessing import MinMaxScaler"
   ]
  },
  {
   "cell_type": "code",
   "execution_count": 154,
   "metadata": {},
   "outputs": [],
   "source": [
    "scaler = MinMaxScaler()\n",
    "scaler.fit(X_tr[COL_NUM])\n",
    "X_tr[COL_NUM] = scaler.transform(X_tr[COL_NUM])\n",
    "X_val[COL_NUM] = scaler.transform(X_val[COL_NUM])\n",
    "X_test[COL_NUM] = scaler.transform(X_test[COL_NUM])"
   ]
  },
  {
   "cell_type": "code",
   "execution_count": 155,
   "metadata": {},
   "outputs": [
    {
     "data": {
      "text/html": [
       "<div>\n",
       "<style scoped>\n",
       "    .dataframe tbody tr th:only-of-type {\n",
       "        vertical-align: middle;\n",
       "    }\n",
       "\n",
       "    .dataframe tbody tr th {\n",
       "        vertical-align: top;\n",
       "    }\n",
       "\n",
       "    .dataframe thead th {\n",
       "        text-align: right;\n",
       "    }\n",
       "</style>\n",
       "<table border=\"1\" class=\"dataframe\">\n",
       "  <thead>\n",
       "    <tr style=\"text-align: right;\">\n",
       "      <th></th>\n",
       "      <th>mpg</th>\n",
       "      <th>cylinders</th>\n",
       "      <th>displacement</th>\n",
       "      <th>horsepower</th>\n",
       "      <th>weight</th>\n",
       "      <th>acceleration</th>\n",
       "      <th>model_year</th>\n",
       "    </tr>\n",
       "  </thead>\n",
       "  <tbody>\n",
       "    <tr>\n",
       "      <th>count</th>\n",
       "      <td>194.000000</td>\n",
       "      <td>194.000000</td>\n",
       "      <td>194.000000</td>\n",
       "      <td>194.000000</td>\n",
       "      <td>194.000000</td>\n",
       "      <td>194.000000</td>\n",
       "      <td>194.000000</td>\n",
       "    </tr>\n",
       "    <tr>\n",
       "      <th>mean</th>\n",
       "      <td>0.406904</td>\n",
       "      <td>5.309278</td>\n",
       "      <td>0.306102</td>\n",
       "      <td>0.305361</td>\n",
       "      <td>0.361607</td>\n",
       "      <td>0.449650</td>\n",
       "      <td>76.144330</td>\n",
       "    </tr>\n",
       "    <tr>\n",
       "      <th>std</th>\n",
       "      <td>0.221871</td>\n",
       "      <td>1.656270</td>\n",
       "      <td>0.273380</td>\n",
       "      <td>0.212577</td>\n",
       "      <td>0.244374</td>\n",
       "      <td>0.169454</td>\n",
       "      <td>3.678786</td>\n",
       "    </tr>\n",
       "    <tr>\n",
       "      <th>min</th>\n",
       "      <td>0.000000</td>\n",
       "      <td>3.000000</td>\n",
       "      <td>0.000000</td>\n",
       "      <td>0.000000</td>\n",
       "      <td>0.000000</td>\n",
       "      <td>0.000000</td>\n",
       "      <td>70.000000</td>\n",
       "    </tr>\n",
       "    <tr>\n",
       "      <th>25%</th>\n",
       "      <td>0.231214</td>\n",
       "      <td>4.000000</td>\n",
       "      <td>0.077519</td>\n",
       "      <td>0.157609</td>\n",
       "      <td>0.148023</td>\n",
       "      <td>0.357143</td>\n",
       "      <td>73.000000</td>\n",
       "    </tr>\n",
       "    <tr>\n",
       "      <th>50%</th>\n",
       "      <td>0.404624</td>\n",
       "      <td>4.000000</td>\n",
       "      <td>0.186047</td>\n",
       "      <td>0.239130</td>\n",
       "      <td>0.307505</td>\n",
       "      <td>0.446429</td>\n",
       "      <td>76.000000</td>\n",
       "    </tr>\n",
       "    <tr>\n",
       "      <th>75%</th>\n",
       "      <td>0.578035</td>\n",
       "      <td>6.000000</td>\n",
       "      <td>0.485788</td>\n",
       "      <td>0.355978</td>\n",
       "      <td>0.510957</td>\n",
       "      <td>0.535714</td>\n",
       "      <td>79.000000</td>\n",
       "    </tr>\n",
       "    <tr>\n",
       "      <th>max</th>\n",
       "      <td>1.000000</td>\n",
       "      <td>8.000000</td>\n",
       "      <td>1.000000</td>\n",
       "      <td>1.000000</td>\n",
       "      <td>1.000000</td>\n",
       "      <td>1.000000</td>\n",
       "      <td>82.000000</td>\n",
       "    </tr>\n",
       "  </tbody>\n",
       "</table>\n",
       "</div>"
      ],
      "text/plain": [
       "              mpg   cylinders  displacement  horsepower      weight  \\\n",
       "count  194.000000  194.000000    194.000000  194.000000  194.000000   \n",
       "mean     0.406904    5.309278      0.306102    0.305361    0.361607   \n",
       "std      0.221871    1.656270      0.273380    0.212577    0.244374   \n",
       "min      0.000000    3.000000      0.000000    0.000000    0.000000   \n",
       "25%      0.231214    4.000000      0.077519    0.157609    0.148023   \n",
       "50%      0.404624    4.000000      0.186047    0.239130    0.307505   \n",
       "75%      0.578035    6.000000      0.485788    0.355978    0.510957   \n",
       "max      1.000000    8.000000      1.000000    1.000000    1.000000   \n",
       "\n",
       "       acceleration  model_year  \n",
       "count    194.000000  194.000000  \n",
       "mean       0.449650   76.144330  \n",
       "std        0.169454    3.678786  \n",
       "min        0.000000   70.000000  \n",
       "25%        0.357143   73.000000  \n",
       "50%        0.446429   76.000000  \n",
       "75%        0.535714   79.000000  \n",
       "max        1.000000   82.000000  "
      ]
     },
     "execution_count": 155,
     "metadata": {},
     "output_type": "execute_result"
    }
   ],
   "source": [
    "X_tr.describe()"
   ]
  },
  {
   "cell_type": "code",
   "execution_count": 156,
   "metadata": {},
   "outputs": [],
   "source": [
    "from sklearn.preprocessing import LabelEncoder"
   ]
  },
  {
   "cell_type": "code",
   "execution_count": 157,
   "metadata": {},
   "outputs": [
    {
     "data": {
      "text/html": [
       "<div>\n",
       "<style scoped>\n",
       "    .dataframe tbody tr th:only-of-type {\n",
       "        vertical-align: middle;\n",
       "    }\n",
       "\n",
       "    .dataframe tbody tr th {\n",
       "        vertical-align: top;\n",
       "    }\n",
       "\n",
       "    .dataframe thead th {\n",
       "        text-align: right;\n",
       "    }\n",
       "</style>\n",
       "<table border=\"1\" class=\"dataframe\">\n",
       "  <thead>\n",
       "    <tr style=\"text-align: right;\">\n",
       "      <th></th>\n",
       "      <th>3</th>\n",
       "      <th>4</th>\n",
       "      <th>5</th>\n",
       "      <th>6</th>\n",
       "      <th>8</th>\n",
       "    </tr>\n",
       "  </thead>\n",
       "  <tbody>\n",
       "    <tr>\n",
       "      <th>161</th>\n",
       "      <td>0</td>\n",
       "      <td>1</td>\n",
       "      <td>0</td>\n",
       "      <td>0</td>\n",
       "      <td>0</td>\n",
       "    </tr>\n",
       "    <tr>\n",
       "      <th>66</th>\n",
       "      <td>0</td>\n",
       "      <td>0</td>\n",
       "      <td>0</td>\n",
       "      <td>0</td>\n",
       "      <td>1</td>\n",
       "    </tr>\n",
       "    <tr>\n",
       "      <th>273</th>\n",
       "      <td>0</td>\n",
       "      <td>1</td>\n",
       "      <td>0</td>\n",
       "      <td>0</td>\n",
       "      <td>0</td>\n",
       "    </tr>\n",
       "    <tr>\n",
       "      <th>247</th>\n",
       "      <td>0</td>\n",
       "      <td>0</td>\n",
       "      <td>0</td>\n",
       "      <td>1</td>\n",
       "      <td>0</td>\n",
       "    </tr>\n",
       "    <tr>\n",
       "      <th>56</th>\n",
       "      <td>0</td>\n",
       "      <td>0</td>\n",
       "      <td>0</td>\n",
       "      <td>1</td>\n",
       "      <td>0</td>\n",
       "    </tr>\n",
       "    <tr>\n",
       "      <th>...</th>\n",
       "      <td>...</td>\n",
       "      <td>...</td>\n",
       "      <td>...</td>\n",
       "      <td>...</td>\n",
       "      <td>...</td>\n",
       "    </tr>\n",
       "    <tr>\n",
       "      <th>239</th>\n",
       "      <td>0</td>\n",
       "      <td>1</td>\n",
       "      <td>0</td>\n",
       "      <td>0</td>\n",
       "      <td>0</td>\n",
       "    </tr>\n",
       "    <tr>\n",
       "      <th>49</th>\n",
       "      <td>0</td>\n",
       "      <td>1</td>\n",
       "      <td>0</td>\n",
       "      <td>0</td>\n",
       "      <td>0</td>\n",
       "    </tr>\n",
       "    <tr>\n",
       "      <th>82</th>\n",
       "      <td>0</td>\n",
       "      <td>0</td>\n",
       "      <td>0</td>\n",
       "      <td>1</td>\n",
       "      <td>0</td>\n",
       "    </tr>\n",
       "    <tr>\n",
       "      <th>27</th>\n",
       "      <td>0</td>\n",
       "      <td>0</td>\n",
       "      <td>0</td>\n",
       "      <td>0</td>\n",
       "      <td>1</td>\n",
       "    </tr>\n",
       "    <tr>\n",
       "      <th>183</th>\n",
       "      <td>0</td>\n",
       "      <td>1</td>\n",
       "      <td>0</td>\n",
       "      <td>0</td>\n",
       "      <td>0</td>\n",
       "    </tr>\n",
       "  </tbody>\n",
       "</table>\n",
       "<p>194 rows × 5 columns</p>\n",
       "</div>"
      ],
      "text/plain": [
       "     3  4  5  6  8\n",
       "161  0  1  0  0  0\n",
       "66   0  0  0  0  1\n",
       "273  0  1  0  0  0\n",
       "247  0  0  0  1  0\n",
       "56   0  0  0  1  0\n",
       "..  .. .. .. .. ..\n",
       "239  0  1  0  0  0\n",
       "49   0  1  0  0  0\n",
       "82   0  0  0  1  0\n",
       "27   0  0  0  0  1\n",
       "183  0  1  0  0  0\n",
       "\n",
       "[194 rows x 5 columns]"
      ]
     },
     "execution_count": 157,
     "metadata": {},
     "output_type": "execute_result"
    }
   ],
   "source": [
    "pd.get_dummies(X_tr['cylinders'])"
   ]
  },
  {
   "cell_type": "code",
   "execution_count": 101,
   "metadata": {},
   "outputs": [],
   "source": [
    "le = LabelEncoder()\n",
    "le.fit(X_tr[['cylinders']])\n",
    "X_tr[['cylinders']] = le.transform(X_tr[['cylinders']])\n",
    "X_val[['cylinders']] = le.transform(X_val[['cylinders']])\n",
    "X_test[['cylinders']] = le.transform(X_test[['cylinders']])"
   ]
  },
  {
   "cell_type": "code",
   "execution_count": 103,
   "metadata": {},
   "outputs": [],
   "source": [
    "le = LabelEncoder()\n",
    "le.fit(X_tr[['model_year']])\n",
    "X_tr[['model_year']] = le.transform(X_tr[['model_year']])\n",
    "X_val[['model_year']] = le.transform(X_val[['model_year']])\n",
    "X_test[['model_year']] = le.transform(X_test[['model_year']])"
   ]
  },
  {
   "cell_type": "code",
   "execution_count": 106,
   "metadata": {},
   "outputs": [],
   "source": [
    "from sklearn.ensemble import RandomForestClassifier"
   ]
  },
  {
   "cell_type": "code",
   "execution_count": 108,
   "metadata": {},
   "outputs": [
    {
     "data": {
      "text/plain": [
       "RandomForestClassifier()"
      ]
     },
     "execution_count": 108,
     "metadata": {},
     "output_type": "execute_result"
    }
   ],
   "source": [
    "model_rf = RandomForestClassifier()\n",
    "model_rf.fit(X_tr, y_tr.values.ravel())"
   ]
  },
  {
   "cell_type": "code",
   "execution_count": 116,
   "metadata": {},
   "outputs": [],
   "source": [
    "from xgboost import XGBClassifier"
   ]
  },
  {
   "cell_type": "code",
   "execution_count": 117,
   "metadata": {},
   "outputs": [
    {
     "data": {
      "text/plain": [
       "XGBClassifier(base_score=0.5, booster=None, colsample_bylevel=1,\n",
       "              colsample_bynode=1, colsample_bytree=1, gamma=0, gpu_id=-1,\n",
       "              importance_type='gain', interaction_constraints=None,\n",
       "              learning_rate=0.300000012, max_delta_step=0, max_depth=6,\n",
       "              min_child_weight=1, missing=nan, monotone_constraints=None,\n",
       "              n_estimators=100, n_jobs=0, num_parallel_tree=1, random_state=0,\n",
       "              reg_alpha=0, reg_lambda=1, scale_pos_weight=1, subsample=1,\n",
       "              tree_method=None, validate_parameters=False, verbosity=None)"
      ]
     },
     "execution_count": 117,
     "metadata": {},
     "output_type": "execute_result"
    }
   ],
   "source": [
    "model_xgb = XGBClassifier()\n",
    "model_xgb.fit(X_tr, y_tr.values.ravel())"
   ]
  },
  {
   "cell_type": "code",
   "execution_count": 119,
   "metadata": {},
   "outputs": [],
   "source": [
    "from sklearn.metrics import roc_auc_score"
   ]
  },
  {
   "cell_type": "code",
   "execution_count": 126,
   "metadata": {},
   "outputs": [],
   "source": [
    "y_pred_rf = model_rf.predict_proba(X_val)\n",
    "y_pred_xgb = model_xgb.predict_proba(X_val)"
   ]
  },
  {
   "cell_type": "code",
   "execution_count": 131,
   "metadata": {},
   "outputs": [],
   "source": [
    "score_rf = roc_auc_score(y_val, y_pred_rf[:, 1])\n",
    "score_xgb = roc_auc_score(y_val, y_pred_xgb[:, 1])"
   ]
  },
  {
   "cell_type": "code",
   "execution_count": 132,
   "metadata": {},
   "outputs": [
    {
     "name": "stdout",
     "output_type": "stream",
     "text": [
      "0.956177723676202\n"
     ]
    }
   ],
   "source": [
    "print(score_rf)"
   ]
  },
  {
   "cell_type": "code",
   "execution_count": 134,
   "metadata": {},
   "outputs": [
    {
     "name": "stdout",
     "output_type": "stream",
     "text": [
      "0.9732197200243458\n"
     ]
    }
   ],
   "source": [
    "print(score_xgb)"
   ]
  },
  {
   "cell_type": "code",
   "execution_count": 136,
   "metadata": {},
   "outputs": [
    {
     "data": {
      "text/plain": [
       "array([0.0048926 , 0.9611875 , 0.9942194 , 0.9967601 , 0.11858205,\n",
       "       0.03175379, 0.00207114, 0.01210872, 0.22131997, 0.04264406,\n",
       "       0.99482805, 0.03709261, 0.9963741 , 0.01060544, 0.01850354,\n",
       "       0.02389176, 0.9963741 , 0.9933929 , 0.02255468, 0.99482673,\n",
       "       0.9956905 , 0.99686927, 0.9963741 , 0.9963741 , 0.9963741 ,\n",
       "       0.00871306, 0.03104271, 0.99771154, 0.99753964, 0.33709016,\n",
       "       0.24185921, 0.00688084, 0.19751681, 0.8032755 , 0.9918928 ,\n",
       "       0.22059327, 0.8149473 , 0.9962794 , 0.31170636, 0.98095244,\n",
       "       0.9963741 , 0.019058  , 0.10483079, 0.44526872, 0.00800976,\n",
       "       0.29217067, 0.12715024, 0.9963741 , 0.09610551, 0.97749466,\n",
       "       0.2828317 , 0.00458381, 0.9918928 , 0.06296839, 0.9963741 ,\n",
       "       0.9937854 , 0.9962603 , 0.8852336 , 0.99747974, 0.00726699,\n",
       "       0.9111955 , 0.8370503 , 0.9963741 , 0.9953844 , 0.99159884,\n",
       "       0.99321884, 0.9933929 , 0.03596915, 0.5673273 , 0.00333021,\n",
       "       0.8123522 , 0.9906303 , 0.988851  , 0.00383877, 0.9956905 ,\n",
       "       0.45435283, 0.9942194 , 0.10824291, 0.02884459, 0.9937854 ,\n",
       "       0.99555534, 0.9937854 , 0.00137141, 0.9887023 , 0.9963741 ,\n",
       "       0.9962447 , 0.00957367, 0.01727655, 0.05725911, 0.98671246,\n",
       "       0.9918928 , 0.9963741 , 0.9963741 , 0.9963741 , 0.9933561 ,\n",
       "       0.99142426, 0.00870012, 0.9953844 , 0.9963741 , 0.9978818 ,\n",
       "       0.99931943, 0.9963741 , 0.9963741 , 0.9933929 , 0.99864703,\n",
       "       0.02847911, 0.01315174, 0.98984104, 0.00727634, 0.9963741 ,\n",
       "       0.42761287, 0.9941302 , 0.00390968, 0.99626595, 0.9936173 ,\n",
       "       0.01110216, 0.99429214, 0.99385333, 0.9942194 , 0.01609308],\n",
       "      dtype=float32)"
      ]
     },
     "execution_count": 136,
     "metadata": {},
     "output_type": "execute_result"
    }
   ],
   "source": [
    "model_xgb.predict_proba(X_test)[:, 1]"
   ]
  },
  {
   "cell_type": "code",
   "execution_count": null,
   "metadata": {},
   "outputs": [],
   "source": []
  }
 ],
 "metadata": {
  "kernelspec": {
   "display_name": "tf-gpu",
   "language": "python",
   "name": "tf2.0-gpu"
  },
  "language_info": {
   "codemirror_mode": {
    "name": "ipython",
    "version": 3
   },
   "file_extension": ".py",
   "mimetype": "text/x-python",
   "name": "python",
   "nbconvert_exporter": "python",
   "pygments_lexer": "ipython3",
   "version": "3.7.6"
  }
 },
 "nbformat": 4,
 "nbformat_minor": 4
}
