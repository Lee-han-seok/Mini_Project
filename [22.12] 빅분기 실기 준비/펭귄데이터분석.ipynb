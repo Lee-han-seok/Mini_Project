{
 "cells": [
  {
   "cell_type": "code",
   "execution_count": 1,
   "metadata": {},
   "outputs": [],
   "source": [
    "import pandas as pd\n",
    "import numpy as np\n",
    "import sklearn"
   ]
  },
  {
   "cell_type": "code",
   "execution_count": 2,
   "metadata": {},
   "outputs": [],
   "source": [
    "# import Data"
   ]
  },
  {
   "cell_type": "code",
   "execution_count": 3,
   "metadata": {},
   "outputs": [],
   "source": [
    "X_train = pd.read_csv('penguin_X_train.csv')\n",
    "X_test = pd.read_csv('penguin_X_test.csv')\n",
    "y_train = pd.read_csv('penguin_y_train.csv')\n",
    "\n",
    "X_train = X_train.drop(['Unnamed: 0'], axis = 1)\n",
    "X_test = X_test.drop(['Unnamed: 0'], axis = 1)\n",
    "y_train = y_train.drop(['Unnamed: 0'], axis = 1)"
   ]
  },
  {
   "cell_type": "code",
   "execution_count": 4,
   "metadata": {},
   "outputs": [],
   "source": [
    "import warnings\n",
    "warnings.filterwarnings('ignore')"
   ]
  },
  {
   "cell_type": "code",
   "execution_count": 5,
   "metadata": {},
   "outputs": [
    {
     "name": "stdout",
     "output_type": "stream",
     "text": [
      "(240, 6)\n"
     ]
    }
   ],
   "source": [
    "print(X_train.shape)"
   ]
  },
  {
   "cell_type": "code",
   "execution_count": 6,
   "metadata": {},
   "outputs": [
    {
     "name": "stdout",
     "output_type": "stream",
     "text": [
      "<class 'pandas.core.frame.DataFrame'>\n",
      "RangeIndex: 240 entries, 0 to 239\n",
      "Data columns (total 6 columns):\n",
      " #   Column             Non-Null Count  Dtype  \n",
      "---  ------             --------------  -----  \n",
      " 0   species            240 non-null    object \n",
      " 1   island             240 non-null    object \n",
      " 2   sex                232 non-null    object \n",
      " 3   bill_length_mm     238 non-null    float64\n",
      " 4   bill_depth_mm      238 non-null    float64\n",
      " 5   flipper_length_mm  238 non-null    float64\n",
      "dtypes: float64(3), object(3)\n",
      "memory usage: 11.4+ KB\n",
      "None\n"
     ]
    }
   ],
   "source": [
    "print(X_train.info())"
   ]
  },
  {
   "cell_type": "code",
   "execution_count": 7,
   "metadata": {},
   "outputs": [
    {
     "name": "stdout",
     "output_type": "stream",
     "text": [
      "       bill_length_mm  bill_depth_mm  flipper_length_mm\n",
      "count      238.000000     238.000000         238.000000\n",
      "mean        43.948739      17.205462         200.684874\n",
      "std          5.475004       1.973498          14.110080\n",
      "min         32.100000      13.200000         172.000000\n",
      "25%         39.200000      15.700000         190.000000\n",
      "50%         44.700000      17.300000         197.000000\n",
      "75%         48.700000      18.700000         213.000000\n",
      "max         58.000000      21.500000         231.000000\n"
     ]
    }
   ],
   "source": [
    "print(X_train.describe())"
   ]
  },
  {
   "cell_type": "code",
   "execution_count": 8,
   "metadata": {},
   "outputs": [
    {
     "data": {
      "text/html": [
       "<div>\n",
       "<style scoped>\n",
       "    .dataframe tbody tr th:only-of-type {\n",
       "        vertical-align: middle;\n",
       "    }\n",
       "\n",
       "    .dataframe tbody tr th {\n",
       "        vertical-align: top;\n",
       "    }\n",
       "\n",
       "    .dataframe thead th {\n",
       "        text-align: right;\n",
       "    }\n",
       "</style>\n",
       "<table border=\"1\" class=\"dataframe\">\n",
       "  <thead>\n",
       "    <tr style=\"text-align: right;\">\n",
       "      <th></th>\n",
       "      <th>species</th>\n",
       "      <th>island</th>\n",
       "      <th>sex</th>\n",
       "      <th>bill_length_mm</th>\n",
       "      <th>bill_depth_mm</th>\n",
       "      <th>flipper_length_mm</th>\n",
       "      <th>body_mass_g</th>\n",
       "    </tr>\n",
       "  </thead>\n",
       "  <tbody>\n",
       "    <tr>\n",
       "      <th>0</th>\n",
       "      <td>Adelie</td>\n",
       "      <td>Torgersen</td>\n",
       "      <td>NaN</td>\n",
       "      <td>42.0</td>\n",
       "      <td>20.2</td>\n",
       "      <td>190.0</td>\n",
       "      <td>4250.0</td>\n",
       "    </tr>\n",
       "    <tr>\n",
       "      <th>1</th>\n",
       "      <td>Gentoo</td>\n",
       "      <td>Biscoe</td>\n",
       "      <td>FEMALE</td>\n",
       "      <td>43.5</td>\n",
       "      <td>15.2</td>\n",
       "      <td>213.0</td>\n",
       "      <td>4650.0</td>\n",
       "    </tr>\n",
       "    <tr>\n",
       "      <th>2</th>\n",
       "      <td>Adelie</td>\n",
       "      <td>Torgersen</td>\n",
       "      <td>MALE</td>\n",
       "      <td>42.8</td>\n",
       "      <td>18.5</td>\n",
       "      <td>195.0</td>\n",
       "      <td>4250.0</td>\n",
       "    </tr>\n",
       "    <tr>\n",
       "      <th>3</th>\n",
       "      <td>Chinstrap</td>\n",
       "      <td>Dream</td>\n",
       "      <td>MALE</td>\n",
       "      <td>53.5</td>\n",
       "      <td>19.9</td>\n",
       "      <td>205.0</td>\n",
       "      <td>4500.0</td>\n",
       "    </tr>\n",
       "    <tr>\n",
       "      <th>4</th>\n",
       "      <td>Gentoo</td>\n",
       "      <td>Biscoe</td>\n",
       "      <td>MALE</td>\n",
       "      <td>50.2</td>\n",
       "      <td>14.3</td>\n",
       "      <td>218.0</td>\n",
       "      <td>5700.0</td>\n",
       "    </tr>\n",
       "  </tbody>\n",
       "</table>\n",
       "</div>"
      ],
      "text/plain": [
       "     species     island     sex  bill_length_mm  bill_depth_mm  \\\n",
       "0     Adelie  Torgersen     NaN            42.0           20.2   \n",
       "1     Gentoo     Biscoe  FEMALE            43.5           15.2   \n",
       "2     Adelie  Torgersen    MALE            42.8           18.5   \n",
       "3  Chinstrap      Dream    MALE            53.5           19.9   \n",
       "4     Gentoo     Biscoe    MALE            50.2           14.3   \n",
       "\n",
       "   flipper_length_mm  body_mass_g  \n",
       "0              190.0       4250.0  \n",
       "1              213.0       4650.0  \n",
       "2              195.0       4250.0  \n",
       "3              205.0       4500.0  \n",
       "4              218.0       5700.0  "
      ]
     },
     "execution_count": 8,
     "metadata": {},
     "output_type": "execute_result"
    }
   ],
   "source": [
    "train = pd.concat([X_train, y_train], axis = 1) ; train.head()"
   ]
  },
  {
   "cell_type": "code",
   "execution_count": 19,
   "metadata": {},
   "outputs": [
    {
     "name": "stdout",
     "output_type": "stream",
     "text": [
      "    species     island  sex  bill_length_mm  bill_depth_mm  flipper_length_mm  \\\n",
      "0    Adelie  Torgersen  NaN            42.0           20.2              190.0   \n",
      "6    Gentoo     Biscoe  NaN            44.5           14.3              216.0   \n",
      "43   Gentoo     Biscoe  NaN             NaN            NaN                NaN   \n",
      "66   Adelie  Torgersen  NaN            37.8           17.3              180.0   \n",
      "88   Gentoo     Biscoe  NaN            47.3           13.8              216.0   \n",
      "89   Adelie  Torgersen  NaN            37.8           17.1              186.0   \n",
      "110  Gentoo     Biscoe  NaN            44.5           15.7              217.0   \n",
      "229  Adelie  Torgersen  NaN             NaN            NaN                NaN   \n",
      "\n",
      "     body_mass_g  \n",
      "0         4250.0  \n",
      "6         4100.0  \n",
      "43           NaN  \n",
      "66        3700.0  \n",
      "88        4725.0  \n",
      "89        3300.0  \n",
      "110       4875.0  \n",
      "229          NaN  \n"
     ]
    }
   ],
   "source": [
    "print(train.loc[(train.sex.isna()) | (train.bill_length_mm.isna()) | (train.bill_depth_mm.isna()) | (train.flipper_length_mm.isna()) | (train.body_mass_g.isna())])"
   ]
  },
  {
   "cell_type": "code",
   "execution_count": 20,
   "metadata": {},
   "outputs": [],
   "source": [
    "train = train.dropna()"
   ]
  },
  {
   "cell_type": "code",
   "execution_count": 21,
   "metadata": {},
   "outputs": [],
   "source": [
    "train.reset_index(drop = True, inplace = True)"
   ]
  },
  {
   "cell_type": "code",
   "execution_count": 22,
   "metadata": {},
   "outputs": [],
   "source": [
    "X_train = train[['species', 'island', 'sex', 'bill_length_mm', 'bill_depth_mm', 'flipper_length_mm']]\n",
    "y_train = train[['body_mass_g']]"
   ]
  },
  {
   "cell_type": "code",
   "execution_count": 23,
   "metadata": {},
   "outputs": [
    {
     "name": "stdout",
     "output_type": "stream",
     "text": [
      "<class 'pandas.core.frame.DataFrame'>\n",
      "RangeIndex: 232 entries, 0 to 231\n",
      "Data columns (total 6 columns):\n",
      " #   Column             Non-Null Count  Dtype  \n",
      "---  ------             --------------  -----  \n",
      " 0   species            232 non-null    object \n",
      " 1   island             232 non-null    object \n",
      " 2   sex                232 non-null    object \n",
      " 3   bill_length_mm     232 non-null    float64\n",
      " 4   bill_depth_mm      232 non-null    float64\n",
      " 5   flipper_length_mm  232 non-null    float64\n",
      "dtypes: float64(3), object(3)\n",
      "memory usage: 11.0+ KB\n",
      "None\n"
     ]
    }
   ],
   "source": [
    "print(X_train.info()) # NA 모두 제거"
   ]
  },
  {
   "cell_type": "code",
   "execution_count": 25,
   "metadata": {},
   "outputs": [
    {
     "name": "stdout",
     "output_type": "stream",
     "text": [
      "       bill_length_mm  bill_depth_mm  flipper_length_mm\n",
      "count      232.000000     232.000000         232.000000\n",
      "mean        43.990948      17.226293         200.681034\n",
      "std          5.509760       1.964677          14.064231\n",
      "min         32.100000      13.200000         172.000000\n",
      "25%         39.200000      15.700000         190.000000\n",
      "50%         44.950000      17.350000         197.000000\n",
      "75%         48.775000      18.725000         212.250000\n",
      "max         58.000000      21.500000         231.000000\n"
     ]
    }
   ],
   "source": [
    " print(X_train.describe()) # 이상치가 있는가?"
   ]
  },
  {
   "cell_type": "code",
   "execution_count": 27,
   "metadata": {},
   "outputs": [],
   "source": [
    "COL_DEL = []\n",
    "COL_NUM = ['bill_length_mm', 'bill_depth_mm', 'flipper_length_mm'] # scaling으로 단위 통일 필요\n",
    "COL_CAT = ['species', 'island', 'sex'] # 더미변수 처리 필요\n",
    "COL_Y = ['body_mass_g']"
   ]
  },
  {
   "cell_type": "code",
   "execution_count": 28,
   "metadata": {},
   "outputs": [],
   "source": [
    "X = pd.concat([X_train, X_test])"
   ]
  },
  {
   "cell_type": "code",
   "execution_count": 29,
   "metadata": {},
   "outputs": [],
   "source": [
    "from sklearn.preprocessing import OneHotEncoder"
   ]
  },
  {
   "cell_type": "code",
   "execution_count": 31,
   "metadata": {},
   "outputs": [],
   "source": [
    "ohe = OneHotEncoder(handle_unknown = 'ignore')\n",
    "ohe.fit(X[COL_CAT])\n",
    "\n",
    "X_train_res = ohe.transform(X_train[COL_CAT])\n",
    "X_test_res = ohe.transform(X_test[COL_CAT])"
   ]
  },
  {
   "cell_type": "code",
   "execution_count": 33,
   "metadata": {
    "scrolled": true
   },
   "outputs": [
    {
     "name": "stdout",
     "output_type": "stream",
     "text": [
      "  (0, 2)\t1.0\n",
      "  (0, 3)\t1.0\n",
      "  (0, 6)\t1.0\n",
      "  (1, 0)\t1.0\n",
      "  (1, 5)\t1.0\n",
      "  (1, 7)\t1.0\n",
      "  (2, 1)\t1.0\n",
      "  (2, 4)\t1.0\n",
      "  (2, 7)\t1.0\n",
      "  (3, 2)\t1.0\n",
      "  (3, 3)\t1.0\n",
      "  (3, 7)\t1.0\n",
      "  (4, 0)\t1.0\n",
      "  (4, 4)\t1.0\n",
      "  (4, 6)\t1.0\n",
      "  (5, 2)\t1.0\n",
      "  (5, 3)\t1.0\n",
      "  (5, 7)\t1.0\n",
      "  (6, 2)\t1.0\n",
      "  (6, 3)\t1.0\n",
      "  (6, 6)\t1.0\n",
      "  (7, 0)\t1.0\n",
      "  (7, 5)\t1.0\n",
      "  (7, 6)\t1.0\n",
      "  (8, 2)\t1.0\n",
      "  :\t:\n",
      "  (223, 6)\t1.0\n",
      "  (224, 2)\t1.0\n",
      "  (224, 3)\t1.0\n",
      "  (224, 7)\t1.0\n",
      "  (225, 0)\t1.0\n",
      "  (225, 4)\t1.0\n",
      "  (225, 7)\t1.0\n",
      "  (226, 1)\t1.0\n",
      "  (226, 4)\t1.0\n",
      "  (226, 7)\t1.0\n",
      "  (227, 1)\t1.0\n",
      "  (227, 4)\t1.0\n",
      "  (227, 6)\t1.0\n",
      "  (228, 2)\t1.0\n",
      "  (228, 3)\t1.0\n",
      "  (228, 7)\t1.0\n",
      "  (229, 0)\t1.0\n",
      "  (229, 5)\t1.0\n",
      "  (229, 6)\t1.0\n",
      "  (230, 1)\t1.0\n",
      "  (230, 4)\t1.0\n",
      "  (230, 6)\t1.0\n",
      "  (231, 2)\t1.0\n",
      "  (231, 3)\t1.0\n",
      "  (231, 6)\t1.0\n"
     ]
    }
   ],
   "source": [
    "print(X_train_res)"
   ]
  },
  {
   "cell_type": "code",
   "execution_count": 34,
   "metadata": {},
   "outputs": [],
   "source": [
    "X_train_ohe = pd.DataFrame(X_train_res.todense(), columns = ohe.get_feature_names())\n",
    "X_test_ohe = pd.DataFrame(X_test_res.todense(), columns = ohe.get_feature_names())"
   ]
  },
  {
   "cell_type": "code",
   "execution_count": 35,
   "metadata": {},
   "outputs": [
    {
     "name": "stdout",
     "output_type": "stream",
     "text": [
      "     x0_Adelie  x0_Chinstrap  x0_Gentoo  x1_Biscoe  x1_Dream  x1_Torgersen  \\\n",
      "0          0.0           0.0        1.0        1.0       0.0           0.0   \n",
      "1          1.0           0.0        0.0        0.0       0.0           1.0   \n",
      "2          0.0           1.0        0.0        0.0       1.0           0.0   \n",
      "3          0.0           0.0        1.0        1.0       0.0           0.0   \n",
      "4          1.0           0.0        0.0        0.0       1.0           0.0   \n",
      "..         ...           ...        ...        ...       ...           ...   \n",
      "227        0.0           1.0        0.0        0.0       1.0           0.0   \n",
      "228        0.0           0.0        1.0        1.0       0.0           0.0   \n",
      "229        1.0           0.0        0.0        0.0       0.0           1.0   \n",
      "230        0.0           1.0        0.0        0.0       1.0           0.0   \n",
      "231        0.0           0.0        1.0        1.0       0.0           0.0   \n",
      "\n",
      "     x2_FEMALE  x2_MALE  \n",
      "0          1.0      0.0  \n",
      "1          0.0      1.0  \n",
      "2          0.0      1.0  \n",
      "3          0.0      1.0  \n",
      "4          1.0      0.0  \n",
      "..         ...      ...  \n",
      "227        1.0      0.0  \n",
      "228        0.0      1.0  \n",
      "229        1.0      0.0  \n",
      "230        1.0      0.0  \n",
      "231        1.0      0.0  \n",
      "\n",
      "[232 rows x 8 columns]\n"
     ]
    }
   ],
   "source": [
    "print(X_train_ohe)"
   ]
  },
  {
   "cell_type": "code",
   "execution_count": 41,
   "metadata": {},
   "outputs": [],
   "source": [
    "X_train_fin = pd.concat([X_train[COL_NUM], X_train_ohe], axis = 1)\n",
    "X_test_fin = pd.concat([X_test[COL_NUM], X_test_ohe], axis = 1)"
   ]
  },
  {
   "cell_type": "code",
   "execution_count": 43,
   "metadata": {},
   "outputs": [],
   "source": [
    "# 데이터 모델링"
   ]
  },
  {
   "cell_type": "code",
   "execution_count": 44,
   "metadata": {},
   "outputs": [],
   "source": [
    "from sklearn.model_selection import train_test_split"
   ]
  },
  {
   "cell_type": "code",
   "execution_count": 45,
   "metadata": {},
   "outputs": [],
   "source": [
    "X_tr, X_val, y_tr, y_val = train_test_split(X_train_fin, y_train, test_size = 0.3)"
   ]
  },
  {
   "cell_type": "code",
   "execution_count": 46,
   "metadata": {},
   "outputs": [],
   "source": [
    "from sklearn.preprocessing import MinMaxScaler"
   ]
  },
  {
   "cell_type": "code",
   "execution_count": 47,
   "metadata": {},
   "outputs": [],
   "source": [
    "scaler = MinMaxScaler()\n",
    "scaler.fit(X_tr[COL_NUM])\n",
    "X_tr[COL_NUM] = scaler.transform(X_tr[COL_NUM])\n",
    "X_val[COL_NUM] = scaler.transform(X_val[COL_NUM])\n",
    "X_test_fin[COL_NUM] = scaler.transform(X_test_fin[COL_NUM])"
   ]
  },
  {
   "cell_type": "code",
   "execution_count": 50,
   "metadata": {
    "scrolled": true
   },
   "outputs": [
    {
     "name": "stdout",
     "output_type": "stream",
     "text": [
      "[[4029.19472616]\n",
      " [5454.56880879]\n",
      " [5520.80462431]\n",
      " [4299.97441643]\n",
      " [3926.77316297]\n",
      " [5359.56742053]\n",
      " [5274.05489427]\n",
      " [4115.13473359]\n",
      " [3439.89088455]\n",
      " [5430.46419722]\n",
      " [3840.94750596]\n",
      " [4713.08518061]\n",
      " [4135.89638087]\n",
      " [5693.20643184]\n",
      " [4305.39679504]\n",
      " [3517.06775709]\n",
      " [5535.47301736]\n",
      " [3502.99520417]\n",
      " [3303.36109277]\n",
      " [3433.79683251]\n",
      " [3568.11721083]\n",
      " [3349.79846184]\n",
      " [4759.31405049]\n",
      " [4822.19898362]\n",
      " [5474.13358237]\n",
      " [4765.14801978]\n",
      " [3274.2639884 ]\n",
      " [3585.75924395]\n",
      " [3931.883012  ]\n",
      " [3080.88190825]\n",
      " [3275.02756597]\n",
      " [4668.25070547]\n",
      " [4770.41869382]\n",
      " [4171.65795285]\n",
      " [3454.17550701]\n",
      " [5305.63863552]\n",
      " [3248.6965024 ]\n",
      " [4634.73985561]\n",
      " [3473.27940888]\n",
      " [5427.81356952]\n",
      " [3297.42645554]\n",
      " [4282.37464978]\n",
      " [3588.05567676]\n",
      " [4177.23558601]\n",
      " [4744.54659635]\n",
      " [3469.01460668]\n",
      " [3483.60103144]\n",
      " [3864.07212264]\n",
      " [5502.27469709]\n",
      " [4273.66134922]\n",
      " [5654.58693529]\n",
      " [3446.92508089]\n",
      " [3984.85877654]\n",
      " [4709.04867745]\n",
      " [4151.81002874]\n",
      " [3950.5340624 ]\n",
      " [4004.76666109]\n",
      " [4317.43099778]\n",
      " [3976.91050038]\n",
      " [4288.77923128]\n",
      " [4684.78384204]\n",
      " [4163.47359918]\n",
      " [3436.29595228]\n",
      " [3459.17712026]\n",
      " [4129.3688727 ]\n",
      " [4004.73908552]\n",
      " [3506.52957483]\n",
      " [3592.14356684]\n",
      " [3346.36375343]\n",
      " [3393.56175125]]\n"
     ]
    }
   ],
   "source": [
    "from sklearn.linear_model import LinearRegression\n",
    "\n",
    "modelLR = LinearRegression()\n",
    "modelLR.fit(X_tr, y_tr)\n",
    "\n",
    "y_val_pred = modelLR.predict(X_val)\n",
    "print(y_val_pred)"
   ]
  },
  {
   "cell_type": "code",
   "execution_count": 52,
   "metadata": {},
   "outputs": [
    {
     "name": "stdout",
     "output_type": "stream",
     "text": [
      "73926.54871090809 271.89437050242157\n"
     ]
    }
   ],
   "source": [
    "from sklearn.metrics import mean_squared_error, r2_score\n",
    "\n",
    "mse = mean_squared_error(y_val, y_val_pred)\n",
    "rmse = mean_squared_error(y_val, y_val_pred, squared = False)\n",
    "\n",
    "print(mse, rmse)"
   ]
  },
  {
   "cell_type": "code",
   "execution_count": 53,
   "metadata": {
    "scrolled": true
   },
   "outputs": [
    {
     "name": "stdout",
     "output_type": "stream",
     "text": [
      "[[4137.76429021]\n",
      " [5337.29085648]\n",
      " [4055.60625331]\n",
      " [3430.20269805]\n",
      " [4673.20033064]\n",
      " [4032.07124827]\n",
      " [3389.50298936]\n",
      " [3667.70190586]\n",
      " [3537.28877239]\n",
      " [3481.95300763]\n",
      " [3373.94433419]\n",
      " [5489.40377017]\n",
      " [3547.04920558]\n",
      " [4085.79063053]\n",
      " [3854.60291811]\n",
      " [4115.92733357]\n",
      " [4372.79770056]\n",
      " [3507.34959038]\n",
      " [3583.0561694 ]\n",
      " [3380.31813768]\n",
      " [5341.19771717]\n",
      " [4192.66796116]\n",
      " [5837.9013786 ]\n",
      " [4678.31869894]\n",
      " [5386.88535389]\n",
      " [5501.33039254]\n",
      " [5506.44024156]\n",
      " [4222.95576761]\n",
      " [3428.52479614]\n",
      " [4036.57930254]\n",
      " [4164.67934881]\n",
      " [3403.41807972]\n",
      " [3540.63233783]\n",
      " [4623.0340187 ]\n",
      " [3349.48929471]\n",
      " [3484.6640003 ]\n",
      " [3254.77146151]\n",
      " [3412.27376778]\n",
      " [3941.17830746]\n",
      " [4934.90771889]\n",
      " [3476.08174117]\n",
      " [5587.37563267]\n",
      " [4939.06534525]\n",
      " [4683.11661954]\n",
      " [5742.55016359]\n",
      " [3858.89890285]\n",
      " [4758.24010347]\n",
      " [3275.47134488]\n",
      " [5398.66027169]\n",
      " [4179.38844937]\n",
      " [4663.26989775]\n",
      " [4730.34243745]\n",
      " [4112.27620784]\n",
      " [3804.43961197]\n",
      " [3252.50023625]\n",
      " [4342.04702228]\n",
      " [4824.53768291]\n",
      " [4615.49432741]\n",
      " [3887.16629759]\n",
      " [4089.5483513 ]\n",
      " [3691.69808731]\n",
      " [4856.4633328 ]\n",
      " [3323.79732306]\n",
      " [4879.43283457]\n",
      " [4090.20814299]\n",
      " [4086.52403124]\n",
      " [5486.53295817]\n",
      " [3243.78477556]\n",
      " [4755.20906762]\n",
      " [3666.34044017]\n",
      " [4032.82755676]\n",
      " [3385.56123614]\n",
      " [4735.61311149]\n",
      " [3275.96315461]\n",
      " [4850.18779261]\n",
      " [4630.98530066]\n",
      " [5369.15474245]\n",
      " [3367.91224271]\n",
      " [3501.48028741]\n",
      " [4793.85974671]\n",
      " [3500.3765568 ]\n",
      " [5705.3850222 ]\n",
      " [3391.38903381]\n",
      " [4812.98355056]\n",
      " [4681.05986847]\n",
      " [3380.31833431]\n",
      " [5632.72136076]\n",
      " [4199.83456126]\n",
      " [3877.51937188]\n",
      " [4762.77873912]\n",
      " [4134.13225741]\n",
      " [4108.50876547]\n",
      " [4165.28906168]\n",
      " [4217.65375102]\n",
      " [5432.04027674]\n",
      " [4184.02494379]\n",
      " [5297.68795471]\n",
      " [3613.30527972]\n",
      " [4787.86615473]\n",
      " [5349.78017294]\n",
      " [3575.28637559]]\n"
     ]
    }
   ],
   "source": [
    "y_pred = modelLR.predict(X_test_fin)\n",
    "print(y_pred)"
   ]
  }
 ],
 "metadata": {
  "kernelspec": {
   "display_name": "tf-gpu",
   "language": "python",
   "name": "tf2.0-gpu"
  },
  "language_info": {
   "codemirror_mode": {
    "name": "ipython",
    "version": 3
   },
   "file_extension": ".py",
   "mimetype": "text/x-python",
   "name": "python",
   "nbconvert_exporter": "python",
   "pygments_lexer": "ipython3",
   "version": "3.7.6"
  }
 },
 "nbformat": 4,
 "nbformat_minor": 4
}
