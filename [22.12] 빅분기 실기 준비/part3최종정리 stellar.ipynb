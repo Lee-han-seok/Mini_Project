{
 "cells": [
  {
   "cell_type": "code",
   "execution_count": 167,
   "metadata": {},
   "outputs": [],
   "source": [
    "import sklearn\n",
    "import pandas as pd\n",
    "import numpy as np\n",
    "import warnings\n",
    "\n",
    "warnings.filterwarnings('ignore')"
   ]
  },
  {
   "cell_type": "code",
   "execution_count": 168,
   "metadata": {},
   "outputs": [],
   "source": [
    "X_test = pd.read_csv('stellar_X_test.csv')\n",
    "X_train = pd.read_csv('stellar_X_train.csv')\n",
    "y_train = pd.read_csv('stellar_y_train.csv')\n",
    "X_test = X_test.drop(['Unnamed: 0'], axis = 1)\n",
    "X_train = X_train.drop(['Unnamed: 0'], axis = 1)\n",
    "y_train = y_train.drop(['Unnamed: 0'], axis = 1)"
   ]
  },
  {
   "cell_type": "code",
   "execution_count": 169,
   "metadata": {},
   "outputs": [
    {
     "name": "stdout",
     "output_type": "stream",
     "text": [
      "        alpha      delta         u         g         r         i         z  \\\n",
      "0   15.543143  11.633094  22.93538  20.90945  19.21472  18.55761  18.25810   \n",
      "1  229.830659  22.738286  19.23876  18.55859  18.35505  18.30021  18.02694   \n",
      "2  197.034525   4.473539  21.53487  20.89188  20.05817  19.31662  18.85004   \n",
      "3  350.480205  33.899168  21.74429  21.16560  20.75535  20.17831  19.89537   \n",
      "4    2.394550  -4.361202  22.31607  22.79926  21.83227  21.34860  21.70997   \n",
      "\n",
      "   redshift  run_ID  rerun_ID  cam_col  field_ID  plate  \n",
      "0  0.351560    7787       301        2       303   4663  \n",
      "1  2.342957    4649       301        5       297   3955  \n",
      "2  0.654545    2247       301        3       242   4758  \n",
      "3  1.722429    8157       301        3        66   7757  \n",
      "4  0.852792    7824       301        5       332   9344  \n"
     ]
    }
   ],
   "source": [
    "print(X_train.head(5))"
   ]
  },
  {
   "cell_type": "code",
   "execution_count": 170,
   "metadata": {},
   "outputs": [
    {
     "name": "stdout",
     "output_type": "stream",
     "text": [
      "<class 'pandas.core.frame.DataFrame'>\n",
      "RangeIndex: 70000 entries, 0 to 69999\n",
      "Data columns (total 13 columns):\n",
      " #   Column    Non-Null Count  Dtype  \n",
      "---  ------    --------------  -----  \n",
      " 0   alpha     70000 non-null  float64\n",
      " 1   delta     70000 non-null  float64\n",
      " 2   u         70000 non-null  float64\n",
      " 3   g         70000 non-null  float64\n",
      " 4   r         70000 non-null  float64\n",
      " 5   i         70000 non-null  float64\n",
      " 6   z         70000 non-null  float64\n",
      " 7   redshift  70000 non-null  float64\n",
      " 8   run_ID    70000 non-null  int64  \n",
      " 9   rerun_ID  70000 non-null  int64  \n",
      " 10  cam_col   70000 non-null  int64  \n",
      " 11  field_ID  70000 non-null  int64  \n",
      " 12  plate     70000 non-null  int64  \n",
      "dtypes: float64(8), int64(5)\n",
      "memory usage: 6.9 MB\n",
      "None\n"
     ]
    }
   ],
   "source": [
    "print(X_train.info())"
   ]
  },
  {
   "cell_type": "code",
   "execution_count": 171,
   "metadata": {},
   "outputs": [
    {
     "name": "stdout",
     "output_type": "stream",
     "text": [
      "              alpha         delta             u             g             r  \\\n",
      "count  70000.000000  70000.000000  70000.000000  70000.000000  70000.000000   \n",
      "mean     177.535809     24.107885     21.938806     20.486718     19.644011   \n",
      "std       96.483093     19.665057     37.942814     37.925201      1.852053   \n",
      "min        0.005528    -18.785328  -9999.000000  -9999.000000      9.822070   \n",
      "25%      127.385304      5.115922     20.349987     18.957325     18.136182   \n",
      "50%      180.706865     23.579507     22.183860     21.095445     20.122805   \n",
      "75%      233.942154     39.871336     23.684145     22.121072     21.039012   \n",
      "max      359.999615     82.947622     32.781390     31.602240     29.571860   \n",
      "\n",
      "                  i             z      redshift        run_ID  rerun_ID  \\\n",
      "count  70000.000000  70000.000000  70000.000000  70000.000000   70000.0   \n",
      "mean      19.082969     18.624590      0.575246   4478.649443     301.0   \n",
      "std        1.755997     37.904705      0.729921   1965.326847       0.0   \n",
      "min        9.469903  -9999.000000     -0.009971    109.000000     301.0   \n",
      "25%       17.733733     17.463838      0.052602   3185.000000     301.0   \n",
      "50%       19.399590     19.001010      0.422838   4188.000000     301.0   \n",
      "75%       20.391340     19.917578      0.700399   5326.000000     301.0   \n",
      "max       32.141470     28.790550      7.011245   8162.000000     301.0   \n",
      "\n",
      "            cam_col      field_ID         plate  \n",
      "count  70000.000000  70000.000000  70000.000000  \n",
      "mean       3.510500    186.045714   5127.852900  \n",
      "std        1.585203    148.661268   2947.452991  \n",
      "min        1.000000     11.000000    266.000000  \n",
      "25%        2.000000     82.000000   2525.750000  \n",
      "50%        4.000000    146.000000   4978.000000  \n",
      "75%        5.000000    241.000000   7389.000000  \n",
      "max        6.000000    989.000000  12547.000000  \n"
     ]
    }
   ],
   "source": [
    "print(X_train.describe())"
   ]
  },
  {
   "cell_type": "code",
   "execution_count": 172,
   "metadata": {},
   "outputs": [
    {
     "name": "stdout",
     "output_type": "stream",
     "text": [
      "[301]\n"
     ]
    }
   ],
   "source": [
    "print(X_train['rerun_ID'].unique()) # rerun_id는 두개의 변수만을 가짐"
   ]
  },
  {
   "cell_type": "code",
   "execution_count": 173,
   "metadata": {},
   "outputs": [],
   "source": [
    "from sklearn.model_selection import train_test_split"
   ]
  },
  {
   "cell_type": "code",
   "execution_count": 174,
   "metadata": {},
   "outputs": [],
   "source": [
    "X_tr, X_val, y_tr, y_val = train_test_split(X_train, y_train, test_size = 0.3)"
   ]
  },
  {
   "cell_type": "code",
   "execution_count": 175,
   "metadata": {},
   "outputs": [
    {
     "data": {
      "text/plain": [
       "4    9571\n",
       "3    9296\n",
       "5    8998\n",
       "2    8431\n",
       "1    6440\n",
       "6    6264\n",
       "Name: cam_col, dtype: int64"
      ]
     },
     "execution_count": 175,
     "metadata": {},
     "output_type": "execute_result"
    }
   ],
   "source": [
    "X_tr['cam_col'].value_counts()"
   ]
  },
  {
   "cell_type": "code",
   "execution_count": 176,
   "metadata": {},
   "outputs": [
    {
     "data": {
      "text/plain": [
       "array([285, 169, 142, 170, 231,  46, 128, 178, 118, 120,  90, 144, 631,\n",
       "       147,  80,  74,  52, 764, 616,  37,  87, 255,  39, 111,  64, 116,\n",
       "       133,  76, 250, 173, 350,  60,  82,  96, 378, 477,  17,  53,  42,\n",
       "       226, 388,  59,  57,  88,  56,  55,  25,  30, 114,  94, 264, 294,\n",
       "        83, 330, 346, 195, 168, 109, 272,  19, 172, 184, 340, 165, 191,\n",
       "        45, 166, 107, 198, 370, 310, 202, 314, 500, 123, 366,  62, 337,\n",
       "       180, 100, 139,  85,  92, 219,  28, 119, 258,  61, 248, 201,  72,\n",
       "       132, 183,  36, 427, 155, 389, 127, 404, 239, 117,  35, 236,  54,\n",
       "       372, 233,  66, 115,  13, 136, 101, 246, 354, 461, 367,  71, 140,\n",
       "       164, 163, 240, 217, 160, 121,  75, 245, 363, 149, 151, 204, 334,\n",
       "        99,  65, 108, 211, 181, 332, 194, 336, 105,  31,  97, 171,  91,\n",
       "       275, 506, 156,  69, 446, 177,  86, 212, 263,  27, 205, 104, 176,\n",
       "        67,  95,  63, 112, 106, 230, 570, 143, 395, 301, 113,  43, 193,\n",
       "       279,  78, 364, 186, 327, 157, 615,  18, 152, 129, 241,  49, 145,\n",
       "       436, 247,  29, 280, 284, 333, 228, 256, 190, 225, 235, 224, 189,\n",
       "       339,  89, 138, 361, 102, 141,  77,  81, 400, 818,  40,  79, 810,\n",
       "       271, 154, 159,  32, 286, 357, 124, 185, 110, 394, 174, 405, 153,\n",
       "        68, 303,  93, 199, 206, 238, 290, 266, 449,  84, 158, 311, 134,\n",
       "       167, 200, 179, 371, 265,  98, 479, 203, 267, 126,  22, 257, 251,\n",
       "       222, 161, 293, 445, 103, 218, 326, 300, 182, 273,  14,  58,  23,\n",
       "       234, 351, 148,  24, 348,  11, 208, 288,  47, 135, 146, 345, 811,\n",
       "        38, 762, 137,  34, 664,  15, 435,  41, 625, 603, 227, 318,  50,\n",
       "       338, 220, 269, 499, 252, 130, 467, 213, 335, 613, 254, 598, 386,\n",
       "       385, 175, 262, 209,  44, 125, 207, 418, 244, 634, 261, 826,  33,\n",
       "       359, 439, 162, 403, 362, 797, 223, 383, 344, 349,  16, 150, 409,\n",
       "        21, 457, 597, 214, 369,  73, 221, 304, 488, 534, 122, 253, 210,\n",
       "        70, 216, 315, 287, 448, 291, 260, 289, 237, 298, 187, 411, 465,\n",
       "       805, 458, 596, 356,  26, 270, 393, 309, 347, 277, 196, 402, 343,\n",
       "       442, 576, 360, 474, 305, 434, 823, 463, 297, 299, 229, 478, 292,\n",
       "       342, 131, 605, 680,  48, 387, 281, 472, 528, 391, 462, 429, 408,\n",
       "       259, 650, 192, 756, 609, 188, 475, 376, 268, 563, 323, 324, 242,\n",
       "       533, 466, 243, 392, 283, 468, 620, 821,  20, 450, 278,  51, 459,\n",
       "       421, 313, 705, 574, 799, 541, 518, 325, 375, 497, 586, 317, 379,\n",
       "       498, 443, 322, 390, 444, 558, 312, 328, 495, 215, 296, 197, 569,\n",
       "       681, 591, 602, 377, 307, 274, 416, 471, 772, 401, 249, 630, 373,\n",
       "       232, 502, 412, 813, 607, 577, 536, 430, 353, 671, 482, 355, 306,\n",
       "       525, 316, 352, 329, 493,  12, 432, 579, 492, 490, 308, 673, 374,\n",
       "       397, 793, 527, 608, 451, 798, 842, 531, 331, 788, 831, 829, 380,\n",
       "       642, 417, 368, 489, 504, 668, 485, 761, 365, 621, 551, 698, 302,\n",
       "       839, 804, 816, 407, 661, 682, 649, 566, 526, 276, 382, 743, 384,\n",
       "       321, 662, 491, 282, 486, 396, 410, 560, 663, 460, 584, 669, 644,\n",
       "       484, 480, 319, 520, 820, 547, 562, 419, 769, 800, 595, 544, 483,\n",
       "       487, 406, 431, 556, 635, 320, 509, 672, 618, 648, 792, 453, 699,\n",
       "       638, 501, 413, 426, 573, 796, 530, 548, 398, 766, 433, 783, 381,\n",
       "       568, 415, 399, 768, 665, 736, 341, 694, 781, 537, 422, 545, 476,\n",
       "       830, 727, 441, 425, 767, 511, 539, 832, 739, 657, 622, 706, 585,\n",
       "       640, 503, 612, 725, 447, 456, 722, 610, 778, 420, 423, 757, 632,\n",
       "       455, 688, 517, 505, 470, 771, 840, 599, 812, 454, 507, 763, 555,\n",
       "       588, 496, 759, 440, 571, 464, 795, 437, 836, 519, 651, 561, 755,\n",
       "       438, 611, 424, 565, 629, 590, 600, 617, 358, 481, 532, 546, 787,\n",
       "       740, 719, 786, 553, 513, 738, 589, 723, 469, 751, 567, 582, 522,\n",
       "       514, 777, 606, 746, 822, 295, 515, 693, 770, 543, 828, 802, 789,\n",
       "       414, 627, 494, 790, 711, 656, 814, 540, 765, 846, 508, 516, 626,\n",
       "       633, 646, 581, 782, 535, 529, 801, 776, 819, 687, 684, 824, 686,\n",
       "       817, 524, 809, 741, 559, 691, 841, 641, 552, 643, 825, 785, 578,\n",
       "       580, 803, 791, 587, 775, 774, 592, 658, 542, 521, 452, 428, 938,\n",
       "       696, 512, 601, 701, 704, 758, 784, 645, 538, 624, 827, 593, 689,\n",
       "       639, 637, 720, 666, 604, 473, 549, 685, 677, 554, 674, 557, 594,\n",
       "       652, 583, 647, 700, 837, 707, 572, 676, 523, 695, 747, 754, 653,\n",
       "       660, 623, 683, 670, 678, 675, 510, 773, 636, 718, 815, 843, 714,\n",
       "       564, 937, 679, 550, 779, 834, 940, 844, 807, 614, 808, 717, 732,\n",
       "       752, 726, 794, 833, 847, 989, 749, 835, 941, 729, 716, 655, 745,\n",
       "       715, 702, 628, 575, 780, 731, 690, 806, 654, 659, 979, 713, 934,\n",
       "       712, 737, 845, 753, 838, 760, 733, 692, 978, 750, 932, 619, 703,\n",
       "       667, 929, 977, 748, 724], dtype=int64)"
      ]
     },
     "execution_count": 176,
     "metadata": {},
     "output_type": "execute_result"
    }
   ],
   "source": [
    "X_tr['field_ID'].unique()"
   ]
  },
  {
   "cell_type": "code",
   "execution_count": 177,
   "metadata": {},
   "outputs": [
    {
     "data": {
      "text/plain": [
       "6057"
      ]
     },
     "execution_count": 177,
     "metadata": {},
     "output_type": "execute_result"
    }
   ],
   "source": [
    "X_tr['plate'].nunique()"
   ]
  },
  {
   "cell_type": "code",
   "execution_count": 178,
   "metadata": {},
   "outputs": [],
   "source": [
    "COL_NUM = ['alpha', 'delta', 'u', 'g', 'r', 'i', 'z', 'redshift', 'run_ID', 'cam_col', 'field_ID', 'plate']\n",
    "COL_CAT = ['rerun_ID']"
   ]
  },
  {
   "cell_type": "code",
   "execution_count": 179,
   "metadata": {},
   "outputs": [],
   "source": [
    "from sklearn.preprocessing import StandardScaler\n",
    "\n",
    "scaler = StandardScaler()\n",
    "scaler.fit(X_tr[COL_NUM])\n",
    "X_tr[COL_NUM] = scaler.transform(X_tr[COL_NUM])\n",
    "X_val[COL_NUM] = scaler.transform(X_val[COL_NUM])\n",
    "X_test[COL_NUM] = scaler.transform(X_test[COL_NUM])"
   ]
  },
  {
   "cell_type": "code",
   "execution_count": 180,
   "metadata": {},
   "outputs": [],
   "source": [
    "X_tr = X_tr.drop(['rerun_ID'], axis = 1)\n",
    "X_val = X_val.drop(['rerun_ID'], axis = 1)\n",
    "X_test = X_test.drop(['rerun_ID'], axis = 1)"
   ]
  },
  {
   "cell_type": "code",
   "execution_count": 181,
   "metadata": {},
   "outputs": [
    {
     "data": {
      "text/plain": [
       "RandomForestClassifier()"
      ]
     },
     "execution_count": 181,
     "metadata": {},
     "output_type": "execute_result"
    }
   ],
   "source": [
    "from sklearn.ensemble import RandomForestClassifier\n",
    "\n",
    "model_rf = RandomForestClassifier()\n",
    "\n",
    "model_rf.fit(X_tr, y_tr.values.ravel())"
   ]
  },
  {
   "cell_type": "code",
   "execution_count": 182,
   "metadata": {},
   "outputs": [
    {
     "data": {
      "text/plain": [
       "XGBClassifier(base_score=0.5, booster=None, colsample_bylevel=1,\n",
       "              colsample_bynode=1, colsample_bytree=1, gamma=0, gpu_id=-1,\n",
       "              importance_type='gain', interaction_constraints=None,\n",
       "              learning_rate=0.300000012, max_delta_step=0, max_depth=6,\n",
       "              min_child_weight=1, missing=nan, monotone_constraints=None,\n",
       "              n_estimators=100, n_jobs=0, num_parallel_tree=1, random_state=0,\n",
       "              reg_alpha=0, reg_lambda=1, scale_pos_weight=1, subsample=1,\n",
       "              tree_method=None, validate_parameters=False, verbosity=None)"
      ]
     },
     "execution_count": 182,
     "metadata": {},
     "output_type": "execute_result"
    }
   ],
   "source": [
    "from xgboost import XGBClassifier\n",
    "\n",
    "model_xgb = XGBClassifier()\n",
    "model_xgb.fit(X_tr, y_tr.values.ravel())"
   ]
  },
  {
   "cell_type": "code",
   "execution_count": 183,
   "metadata": {},
   "outputs": [
    {
     "name": "stdout",
     "output_type": "stream",
     "text": [
      "0.9939798227255087\n",
      "0.9945243282753928\n"
     ]
    }
   ],
   "source": [
    "from sklearn.metrics import roc_auc_score\n",
    "\n",
    "y_pred_rf = model_rf.predict_proba(X_val)\n",
    "y_pred_xgb = model_xgb.predict_proba(X_val)\n",
    "\n",
    "score_rf = roc_auc_score(y_val, y_pred_rf[:, 1])\n",
    "score_xgb = roc_auc_score(y_val, y_pred_xgb[:, 1])\n",
    "\n",
    "print(score_rf)\n",
    "print(score_xgb)"
   ]
  },
  {
   "cell_type": "code",
   "execution_count": 184,
   "metadata": {},
   "outputs": [],
   "source": [
    "pred = model_xgb.predict_proba(X_test)[:, 1]"
   ]
  },
  {
   "cell_type": "code",
   "execution_count": 185,
   "metadata": {},
   "outputs": [
    {
     "data": {
      "text/plain": [
       "array([9.9845624e-01, 4.8855843e-04, 9.9657428e-01, ..., 8.5496604e-03,\n",
       "       1.2167029e-02, 9.9429321e-01], dtype=float32)"
      ]
     },
     "execution_count": 185,
     "metadata": {},
     "output_type": "execute_result"
    }
   ],
   "source": [
    "pred"
   ]
  },
  {
   "cell_type": "code",
   "execution_count": 189,
   "metadata": {},
   "outputs": [],
   "source": [
    "pd.DataFrame({'index' : X_test.index, 'target': pred}).to_csv('한석.csv',index = False)"
   ]
  },
  {
   "cell_type": "code",
   "execution_count": null,
   "metadata": {},
   "outputs": [],
   "source": []
  }
 ],
 "metadata": {
  "kernelspec": {
   "display_name": "tf-gpu",
   "language": "python",
   "name": "tf2.0-gpu"
  },
  "language_info": {
   "codemirror_mode": {
    "name": "ipython",
    "version": 3
   },
   "file_extension": ".py",
   "mimetype": "text/x-python",
   "name": "python",
   "nbconvert_exporter": "python",
   "pygments_lexer": "ipython3",
   "version": "3.7.6"
  }
 },
 "nbformat": 4,
 "nbformat_minor": 4
}
