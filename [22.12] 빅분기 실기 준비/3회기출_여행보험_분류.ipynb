{
 "cells": [
  {
   "cell_type": "code",
   "execution_count": 79,
   "metadata": {},
   "outputs": [],
   "source": [
    "import pandas as pd\n",
    "import numpy as np\n",
    "import sklearn, xgboost\n",
    "import warnings\n",
    "warnings.filterwarnings('ignore')\n",
    "\n",
    "train_df = pd.read_csv('304_travel_insurance_train.csv')\n",
    "test_df = pd.read_csv('304_travel_insurance_test.csv')"
   ]
  },
  {
   "cell_type": "code",
   "execution_count": 80,
   "metadata": {},
   "outputs": [],
   "source": [
    "y_train = train_df['TravelInsurance']\n",
    "X_train = train_df.drop(['TravelInsurance'], axis = 1)"
   ]
  },
  {
   "cell_type": "code",
   "execution_count": 81,
   "metadata": {},
   "outputs": [],
   "source": [
    "X_test = test_df"
   ]
  },
  {
   "cell_type": "code",
   "execution_count": 82,
   "metadata": {},
   "outputs": [
    {
     "name": "stdout",
     "output_type": "stream",
     "text": [
      "     ID  Age               Employment Type GraduateOrNot  AnnualIncome  \\\n",
      "0  1704   26  Private Sector/Self Employed           Yes       1400000   \n",
      "1   491   28  Private Sector/Self Employed           Yes       1100000   \n",
      "2   414   33  Private Sector/Self Employed           Yes       1400000   \n",
      "\n",
      "   FamilyMembers  ChronicDiseases FrequentFlyer EverTravelledAbroad  \n",
      "0              3                1            No                 Yes  \n",
      "1              4                1            No                  No  \n",
      "2              4                0            No                 Yes  \n"
     ]
    }
   ],
   "source": [
    "print(X_train.head(3))"
   ]
  },
  {
   "cell_type": "code",
   "execution_count": 83,
   "metadata": {},
   "outputs": [
    {
     "name": "stdout",
     "output_type": "stream",
     "text": [
      "['Private Sector/Self Employed' 'Government Sector']\n"
     ]
    }
   ],
   "source": [
    "print(X_train['Employment Type'].unique())"
   ]
  },
  {
   "cell_type": "code",
   "execution_count": 84,
   "metadata": {},
   "outputs": [],
   "source": [
    "# 삭제 : ID\n",
    "# 건들 ㄴ : ['FamilyMembers', 'ChronicDiseases']\n",
    "# 더미 : ['Employment Type', 'GraduateOrNot', 'FrequentFlyer', 'EverTravelledAbroad']\n",
    "# 라벨 인코더 : \n",
    "# 스케일링 : ['Age', 'AnnualIncome'] "
   ]
  },
  {
   "cell_type": "code",
   "execution_count": 85,
   "metadata": {},
   "outputs": [],
   "source": [
    "COL = ['FamilyMembers', 'ChronicDiseases']\n",
    "COL_DUM = ['Employment Type', 'GraduateOrNot', 'FrequentFlyer', 'EverTravelledAbroad']\n",
    "COL_NUM = ['Age', 'AnnualIncome', 'Income/family'] \n",
    "# 불필요 피쳐 삭제\n",
    "X_train = X_train.drop(['ID'], axis = 1)\n",
    "X_test = X_test.drop(['ID'], axis = 1)"
   ]
  },
  {
   "cell_type": "code",
   "execution_count": 86,
   "metadata": {},
   "outputs": [],
   "source": [
    "# 더미변수 처리\n",
    "X_train_dum = pd.get_dummies(X_train[COL_DUM])\n",
    "X_test_dum = pd.get_dummies(X_test[COL_DUM])"
   ]
  },
  {
   "cell_type": "code",
   "execution_count": 87,
   "metadata": {},
   "outputs": [],
   "source": [
    "X_train = X_train.drop(COL_DUM, axis = 1)\n",
    "X_train = pd.concat([X_train, X_train_dum], axis = 1)\n",
    "X_test = X_test.drop(COL_DUM, axis = 1)\n",
    "X_test = pd.concat([X_test, X_test_dum], axis = 1)"
   ]
  },
  {
   "cell_type": "code",
   "execution_count": 88,
   "metadata": {},
   "outputs": [],
   "source": [
    "X_train['Income/family'] = X_train['AnnualIncome'] / X_train['FamilyMembers']\n",
    "X_test['Income/family'] = X_test['AnnualIncome'] / X_test['FamilyMembers']"
   ]
  },
  {
   "cell_type": "code",
   "execution_count": 89,
   "metadata": {},
   "outputs": [],
   "source": [
    "# train test split\n",
    "from sklearn.model_selection import train_test_split\n",
    "\n",
    "X_tr, X_val, y_tr, y_val = train_test_split(X_train, y_train, test_size = 0.3)"
   ]
  },
  {
   "cell_type": "code",
   "execution_count": 90,
   "metadata": {},
   "outputs": [],
   "source": [
    "# MinMaxScale\n",
    "from sklearn.preprocessing import MinMaxScaler\n",
    "\n",
    "mms = MinMaxScaler()\n",
    "mms.fit(X_tr[COL_NUM])\n",
    "X_tr[COL_NUM] = mms.fit_transform(X_tr[COL_NUM])\n",
    "X_test[COL_NUM] = mms.fit_transform(X_test[COL_NUM])\n",
    "X_val[COL_NUM] = mms.fit_transform(X_val[COL_NUM])"
   ]
  },
  {
   "cell_type": "code",
   "execution_count": 61,
   "metadata": {},
   "outputs": [],
   "source": [
    "# StandardScaler\n",
    "#from sklearn.preprocessing import StandardScaler\n",
    "\n",
    "#scaler = StandardScaler()\n",
    "#scaler.fit(X_tr[COL_NUM])\n",
    "#X_tr[COL_NUM] = scaler.fit_transform(X_tr[COL_NUM])\n",
    "#X_test[COL_NUM] = scaler.fit_transform(X_test[COL_NUM])\n",
    "#X_val[COL_NUM] = scaler.fit_transform(X_val[COL_NUM])"
   ]
  },
  {
   "cell_type": "code",
   "execution_count": 91,
   "metadata": {},
   "outputs": [
    {
     "data": {
      "text/plain": [
       "XGBClassifier(base_score=0.5, booster=None, colsample_bylevel=1,\n",
       "              colsample_bynode=1, colsample_bytree=1, gamma=0, gpu_id=-1,\n",
       "              importance_type='gain', interaction_constraints=None,\n",
       "              learning_rate=0.300000012, max_delta_step=0, max_depth=6,\n",
       "              min_child_weight=1, missing=nan, monotone_constraints=None,\n",
       "              n_estimators=100, n_jobs=0, num_parallel_tree=1, random_state=22,\n",
       "              reg_alpha=0, reg_lambda=1, scale_pos_weight=1, subsample=1,\n",
       "              tree_method=None, validate_parameters=False, verbosity=None)"
      ]
     },
     "execution_count": 91,
     "metadata": {},
     "output_type": "execute_result"
    }
   ],
   "source": [
    "from xgboost import XGBClassifier\n",
    "model_xgb = XGBClassifier(random_state = 22)\n",
    "model_xgb.fit(X_tr, y_tr.values.ravel())"
   ]
  },
  {
   "cell_type": "code",
   "execution_count": 92,
   "metadata": {},
   "outputs": [
    {
     "data": {
      "text/plain": [
       "RandomForestClassifier(random_state=11)"
      ]
     },
     "execution_count": 92,
     "metadata": {},
     "output_type": "execute_result"
    }
   ],
   "source": [
    "from sklearn.ensemble import RandomForestClassifier\n",
    "model_rf = RandomForestClassifier(random_state = 11)\n",
    "model_rf.fit(X_tr, y_tr.values.ravel())"
   ]
  },
  {
   "cell_type": "code",
   "execution_count": 93,
   "metadata": {},
   "outputs": [],
   "source": [
    "from sklearn.metrics import roc_auc_score\n",
    "\n",
    "pred_xgb = model_xgb.predict_proba(X_val)\n",
    "pred_rf = model_rf.predict_proba(X_val)\n",
    "\n",
    "xgb_score = roc_auc_score(y_val, pred_xgb[:, 1])\n",
    "rf_score = roc_auc_score(y_val, pred_rf[:, 1])"
   ]
  },
  {
   "cell_type": "code",
   "execution_count": 94,
   "metadata": {},
   "outputs": [
    {
     "name": "stdout",
     "output_type": "stream",
     "text": [
      "0.8275509769699034 0.8310203907879614\n"
     ]
    }
   ],
   "source": [
    "print(xgb_score, rf_score) # Min-MAx : 성능 더 훌륭"
   ]
  },
  {
   "cell_type": "code",
   "execution_count": 113,
   "metadata": {},
   "outputs": [
    {
     "name": "stdout",
     "output_type": "stream",
     "text": [
      "0.840790089821634\n"
     ]
    }
   ],
   "source": [
    "from xgboost import XGBClassifier\n",
    "model_xgb = XGBClassifier(learning_rate = 0.15, max_depth = 7,  colsample_bytree=0.4)\n",
    "model_xgb.fit(X_tr, y_tr.values.ravel())\n",
    "\n",
    "from sklearn.metrics import roc_auc_score\n",
    "\n",
    "pred_xgb = model_xgb.predict_proba(X_val)\n",
    "\n",
    "xgb_score = roc_auc_score(y_val, pred_xgb[:, 1])\n",
    "\n",
    "print(xgb_score)"
   ]
  },
  {
   "cell_type": "code",
   "execution_count": null,
   "metadata": {},
   "outputs": [],
   "source": []
  },
  {
   "cell_type": "code",
   "execution_count": null,
   "metadata": {},
   "outputs": [],
   "source": []
  },
  {
   "cell_type": "code",
   "execution_count": null,
   "metadata": {},
   "outputs": [],
   "source": []
  },
  {
   "cell_type": "code",
   "execution_count": null,
   "metadata": {},
   "outputs": [],
   "source": []
  }
 ],
 "metadata": {
  "kernelspec": {
   "display_name": "tf-gpu",
   "language": "python",
   "name": "tf2.0-gpu"
  },
  "language_info": {
   "codemirror_mode": {
    "name": "ipython",
    "version": 3
   },
   "file_extension": ".py",
   "mimetype": "text/x-python",
   "name": "python",
   "nbconvert_exporter": "python",
   "pygments_lexer": "ipython3",
   "version": "3.7.6"
  }
 },
 "nbformat": 4,
 "nbformat_minor": 4
}
