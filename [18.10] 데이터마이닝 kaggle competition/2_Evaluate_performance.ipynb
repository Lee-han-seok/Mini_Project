{
 "cells": [
  {
   "cell_type": "markdown",
   "metadata": {},
   "source": [
    "<font color = \"#CC3D3D\">\n",
    "# DW(Data Wrangling) Competition"
   ]
  },
  {
   "cell_type": "markdown",
   "metadata": {},
   "source": [
    "<font color = \"#CC3D3D\">\n",
    "## Step 2) Evaluate performance ##\n",
    "</font>    \n",
    "- Step 1)에서 생성한 `X_train.csv`와 `X_test.csv`를 이용하여 아래 코드를 실행한 후 모형성능을 확인한다.\n",
    "  - [5-fold cross validation](http://scikit-learn.org/stable/modules/cross_validation.html)을 수행한 후 모형성능의 평균 값과 표준편차 등을 출력한다.\n",
    "  - 모형성능은 [ROC-AUC](http://scikit-learn.org/stable/auto_examples/model_selection/plot_roc.html#sphx-glr-auto-examples-model-selection-plot-roc-py)로 측정하며, 값이 높을수록 성능이 좋은 모델이다. (*0 <= ROC-AUC <=1*)\n",
    "- 실행 후 생성되는 `submissions.csv`를 Kaggle에 제출하여 \"public leaderboard\"에서 본인의 Score(ROC-AUC)와 등수를 확인한다. \n",
    "  - Kaggle에서 확인한 Score가 이 코드에서 출력되는 Score보다 떨어지는게 일반적이만 반드시 그렇지는 않다."
   ]
  },
  {
   "cell_type": "code",
   "execution_count": 23,
   "metadata": {},
   "outputs": [
    {
     "name": "stdout",
     "output_type": "stream",
     "text": [
      "[0.69998116 0.67847758 0.66416175 0.57495841 0.5999858 ]\n",
      "mean = 0.64351, std = 0.04782\n",
      "'submissions.csv' is ready to submit.\n"
     ]
    }
   ],
   "source": [
    "import pandas as pd\n",
    "from sklearn.model_selection import cross_val_score\n",
    "from sklearn.ensemble import RandomForestClassifier\n",
    "\n",
    "def eval_perf(fname) :\n",
    "    X_train = pd.read_csv('X_train.csv', encoding='cp949').sort_values(by='custid').drop(['custid'], axis=1)\n",
    "    X_test = pd.read_csv('X_test.csv', encoding='cp949').sort_values(by='custid')\n",
    "    IDtest = X_test.custid; X_test = X_test.drop(['custid'], axis=1)\n",
    "    y_train = pd.read_csv('y_train.csv').sort_values(by='custid').target\n",
    "    clf = RandomForestClassifier(max_depth=8, n_estimators=200, random_state=0) # 이 라인은 절대 수정하면 안됨 !!! \n",
    "    score = cross_val_score(clf, X_train, y_train, cv=5, scoring='roc_auc')  # cv 값을 더 큰 값(예: 10)으로 조정할 수도 있다. \n",
    "    print('{}\\nmean = {:.5f}, std = {:.5f}'.format(score, score.mean(), score.std()))\n",
    "    pred = clf.fit(X_train, y_train).predict_proba(X_test)[:,1]\n",
    "    submissions = pd.concat([IDtest, pd.Series(pred, name=\"target\")] ,axis=1)\n",
    "    submissions.to_csv(fname,index=False)\n",
    "    print(\"'{}' is ready to submit.\" .format(fname))\n",
    "    \n",
    "eval_perf('submissions.csv') # 화일명은 마음대로 고칠 수 있다."
   ]
  },
  {
   "cell_type": "markdown",
   "metadata": {},
   "source": [
    "<font color = \"#CC3D3D\">\n",
    "## End"
   ]
  }
 ],
 "metadata": {
  "kernelspec": {
   "display_name": "Python 3",
   "language": "python",
   "name": "python3"
  },
  "language_info": {
   "codemirror_mode": {
    "name": "ipython",
    "version": 3
   },
   "file_extension": ".py",
   "mimetype": "text/x-python",
   "name": "python",
   "nbconvert_exporter": "python",
   "pygments_lexer": "ipython3",
   "version": "3.6.5"
  }
 },
 "nbformat": 4,
 "nbformat_minor": 2
}
